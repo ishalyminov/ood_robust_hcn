{
 "cells": [
  {
   "cell_type": "code",
   "execution_count": 39,
   "metadata": {},
   "outputs": [],
   "source": [
    "from __future__ import absolute_import\n",
    "\n",
    "import os\n",
    "import json\n",
    "import re\n",
    "import logging\n",
    "\n",
    "from utils.nlp_utils import profanity_check\n",
    "\n",
    "logging.basicConfig(format='%(asctime)s %(message)s', datefmt='%m/%d/%Y %I:%M:%S %p')\n",
    "logger = logging.getLogger(__name__)\n",
    "logger.setLevel(logging.INFO)"
   ]
  },
  {
   "cell_type": "code",
   "execution_count": 40,
   "metadata": {},
   "outputs": [],
   "source": [
    "DSTC1_FOLDER = '/home/t-igshal/data/dstc1'"
   ]
  },
  {
   "cell_type": "code",
   "execution_count": 41,
   "metadata": {},
   "outputs": [
    {
     "data": {
      "text/plain": [
       "['test4',\n",
       " 'dstc_data_test3',\n",
       " 'Dialog state tracking challenge handbook V21.pdf',\n",
       " 'test2',\n",
       " 'train2',\n",
       " 'train1c',\n",
       " 'train1a',\n",
       " 'test1',\n",
       " 'train1b',\n",
       " 'dstc_data_train3_v00']"
      ]
     },
     "execution_count": 41,
     "metadata": {},
     "output_type": "execute_result"
    }
   ],
   "source": [
    "os.listdir(DSTC1_FOLDER)"
   ]
  },
  {
   "cell_type": "code",
   "execution_count": 42,
   "metadata": {},
   "outputs": [],
   "source": [
    "dstc1_utterances = set([])\n",
    "dstc1_start_utterances = set([])\n",
    "for root, dirs, files in os.walk(DSTC1_FOLDER):\n",
    "    for filename in files:\n",
    "        if re.match('.+\\.labels\\.json$', filename):\n",
    "            with open(os.path.join(root, filename)) as session_in:\n",
    "                session_json = json.load(session_in)\n",
    "                turns = session_json.get('turns', [])\n",
    "                if len(turns) and turns[0]['transcription-status'] == 'transcribed':\n",
    "                    dstc1_start_utterances.add(turns[0]['transcription'])\n",
    "                dstc1_utterances.update([turn['transcription']\n",
    "                                         for turn in turns\n",
    "                                         if turn.get('transcription-status') == 'transcribed'])\n",
    "                \n",
    "dstc1_utterances = [utt for utt in dstc1_utterances if utt]\n",
    "dstc1_start_utterances = [utt for utt in dstc1_start_utterances if utt]"
   ]
  },
  {
   "cell_type": "code",
   "execution_count": 43,
   "metadata": {
    "scrolled": false
   },
   "outputs": [
    {
     "name": "stdout",
     "output_type": "stream",
     "text": [
      "968\n",
      "when is the next sixty one b from oakland to wilkinsburg\n",
      "what time does the next sixty one c leave from downtown\n",
      "the sixty one c from homestead what hours does it leave\n",
      "i need to know what time the sixty one a comes to swissvale\n",
      "i want to know what time the sixty one c stops running\n",
      "can i have the schedule for the fifty four c the next bus\n",
      "sixty one c i think she might have missed the last one\n",
      "/background/ i would like to know when the next 61a:b is coming to Kelly:p and Pitt:p\n",
      "i need a bus from downtown sixty one a to shadyside hospital\n",
      "arlington road to carnegie mellon university from fourth in murray\n",
      "carnegie yes 61c moroeville front of transportation mckeesport to grace cambridge b street in whitehall\n",
      "the next fifty nine a leaving the mall going to west mifflin\n",
      "p a neville in 54c leaving at south front of stead\n",
      "can you tell me when the next sixty one c from oakland to mckeesport %\n",
      "could tell me when the fifty four c bus comes on bosman in knox\n",
      "i know i want to know what time forty six d\n",
      "hi could you tell me what time the next bus leaving out of ambridge going into pittsburgh please\n",
      "time the next 61c we stack by downtown pittsburgh rankin mckeesport\n",
      "what time is the next bus from morewood to airport\n",
      "i need to know what time the next fifty four c\n",
      "im trying to find when the next fifty one c leaves fifth avenue going downtown\n",
      "i need to know what bus runs from broadway boulevard to %\n",
      "i need to know what time the sixty one c is rolling through squirrel hill the last sixty one c or the next sixty one c available at this hour\n",
      "rankin 11a next co the 88a moroeville mall twentieth braddock at sanders center town\n",
      "can you tell me when the next sixty one a\n",
      "i need to know what time the eighty one b goes to town\n",
      "wall done u the 100 51b leaving kennywood going to downtown pittsburgh\n",
      "what time do the sixty one c going to dudes coming from\n",
      "from fifth at ml wood to stanton avenue grace him\n",
      "i want a bus the sixty one c from mckeesport by mercy hospital\n",
      "i need to know when the sixty one c leaves homestead eight and n going to mckeesport\n",
      "r need the from noble town the 46g new r\n",
      "i need the schedule for the sixty one b and sixty one a going to braddock\n",
      "correct when is 61c coming east run pittsburgh to mckeesport\n",
      "when is the next bus from cmu to squirrel hill\n",
      "i need to know when the next sixty one a leaves town\n",
      "i want to see if the fifty five m is running late or the 61cs running late\n",
      "36a mckee 61a brighton ross and fifth r nine noble street to by cmu\n",
      "i wanted to find out what time the sixty one c leaves mckeesport\n",
      "i want to know the last time the sixty one c runs through homestead\n",
      "i need the schedule to fifty six c leaving pittsburg arriving in mckeesport\n",
      "can you tell me what time the fifty six c leaves transportation center going to downtown\n",
      "when is the next bus leaving homestead going to downtown pittsburgh\n",
      "18b the 61c bus from mifflin estates to go to wal-mart tomorrow morning\n",
      "next bus next sixty one a to wilkinsburg from edgewood town center\n",
      "yes i need to know when the next sixty one a is leaving dynamo way going to downtown\n",
      "im trying to find the bus schedule for down town\n",
      "yes id like to know what bus is going to take me to midnight road\n",
      "i would like to know how much do an adult pay in a zone one\n",
      "i want a schedule for the fifty four c heading toward the northside sunday night\n"
     ]
    }
   ],
   "source": [
    "dstc1_longer_start_utterances = [utt for utt in dstc1_start_utterances if 9 < len(utt.split())]\n",
    "print(len(dstc1_longer_start_utterances))\n",
    "print('\\n'.join(dstc1_longer_start_utterances[:50]))"
   ]
  },
  {
   "cell_type": "code",
   "execution_count": 45,
   "metadata": {},
   "outputs": [],
   "source": [
    "with open('data/dstc1_ood.txt', 'w') as ood_out:\n",
    "    for utterance in dstc1_longer_start_utterances:\n",
    "        print(utterance, file=ood_out)"
   ]
  },
  {
   "cell_type": "code",
   "execution_count": 46,
   "metadata": {},
   "outputs": [],
   "source": [
    "with open('data/Frames-dataset/frames.json') as frames_in:\n",
    "    frames_data = json.load(frames_in)"
   ]
  },
  {
   "cell_type": "code",
   "execution_count": 49,
   "metadata": {},
   "outputs": [],
   "source": [
    "frames_start_utterances = set([dialogue['turns'][0]['text'] for dialogue in frames_data])"
   ]
  },
  {
   "cell_type": "code",
   "execution_count": 52,
   "metadata": {},
   "outputs": [
    {
     "name": "stdout",
     "output_type": "stream",
     "text": [
      "1198\n",
      "from 22nd-28nd of september i just wanna flee town and forget about work, family, my mortgage, responsibilities, my alcoholism, etc.. i am thinking Ciudad Juarez from Dalle\n",
      "Hi im from neverland! and i want to go to Mos eisley\n",
      "Hi i need a 5 day get away!\n",
      "Hi there, I'd like to book a trip to Punta Cana.\n",
      "Can you help me book a trip to Mexico City? We'll be 4 adults and 6 kids from Long Baech.\n",
      "OMG. I AM LATE AT WORK DREAMING ABOUT A TRIP. I LOVE TO DREAM REAL JOHN LENNON FAN HERE SEND ME TO MILAN I GUESS I AM GETTING THE HECK OUT OF BRASILIA\n",
      "Hi there! I'm about to jet out to my first ever internship I need to make sure I get this booking exactly right Can you get me to Rome?\n",
      "I would like to take my fam jam on a vacation to Boston from Tijuana.\n",
      "Please check if there is a flight to Naples from Fort Lauderdale leaving August 31\n",
      "Looking to take my squad out to Punta Cana! I’ll pay whatever it takes to fly out of Tel Aviv\n",
      "my 4 friends and i want to get away\n",
      "Hello there! I have 12 days off starting on August 22, and I'm leaving from Santo Domingo\n",
      "I wanna go to Sao Paulo from Osaka for 6800\n",
      "Hi im from Hauston looking to get to my internship\n",
      "I need to get to Osaka from Dallas so I can find Mewtwo, he's the last one I need to find and I heard he was spotted in Osaka.\n",
      "Hi I want to go to Tijuana from Santo domingo for 2400\n",
      "I need to get to Beijing so I can get a picture of Madonna and her huge popstar friend, Greg.\n",
      "Hi there! Got anything from Kabul to Tel Aviv?\n",
      "Me and 3 friends are going on fall break and want to go to San Diego from Calgary from the 8th to 25th and we have 14000 between us.\n",
      "Hello! I live in Munich and I'd like to book any kind of trip between Monday, August 15th and Friday August 26th for 3 adults and 3 kids.\n",
      "I need to get a pic of Madonna and her pal, they are going to be in Kobe and I want to leave from Queenstown\n",
      "Hey there, I need to book a trip to get away!\n",
      "Hey there I'm looking for a trip from St. Louis to Kabul.\n",
      "do you have hotels near parks in Campinas?\n",
      "hello my little pet. i have a little angel to see to in phoenix and i may leave from anywhere\n",
      "3 adults 2 kids, leaving from burlington, destination tbd\n",
      "HI. Get me to Santiago Sept 13-24 Leaving from wherever\n",
      "I've got 9 days to take off this month.. any time is good. I was looking to see where I can go from Barcelona.\n",
      "Can you get 4 strapping men out of Sacramento between the dates of August 31 to September 20\n",
      "So there are 4 friends I promised I would visit this year and I want to check which one would be the best to visit in the coming weeks based on the deals you can offer me.\n",
      "Good morning! I need to book a trip for 7 of my colleagues. There are a couple possible destinations. The first one is to Cancun. The departure could be from Nagoya And the trip would ideally be between August 24th and September 11th\n",
      "Hi! I need to find a package that will allow me to get to an internship I've been offered. There are several cities I could go to and I haven't made up my mind up yet, can you help me compare the options?\n",
      "Guess what? I'm a recently married person looking for a honeymoon package from osaka to manaus!\n",
      "Can you check Guadalajara first? I'll be leaving from Curitiba\n",
      "I want to book a travel package to melbourne from puebla\n",
      "Hello there I am looking for a travel package departing from Tofino on or after August 29. I would like to go to Calgary with a party of fourteen adults.\n",
      "Hey there! I need to take some pics of Madonna and her friend in London, I work with InTouch magazine. Can you get me there from Los Angeles?\n",
      "hello i am the happy father of 3 beautiful little angels and i would like to bring them all on the vacation of a lifetime\n",
      "I want to find a vacay between sept.12 and 19 for under 5500, leaving from Mannheim\n",
      "I must get away from the paparazzi. What packages can you offer to Hiroshima?\n",
      "Tel Aviv - San Francisco please\n",
      "Hey man, I'm like the best Pokémon hunter in the WORLD and I'm only missing one and I need to get to Punta Cana cause rumour like has it he's at one of those places but you know rumours are only rumours so I'm not in a total hurry but I want to see how much it will cost me to get go there, can you give me some pricing\n",
      "I would like to take my darling little munchkins and my beautiful wife with me on a lovely family vacation. We were thinking about going to Atlanta.\n",
      "I'd like to book a trip to Atlantis from Caprica on Saturday, August 13, 2016 for 8 adults. I have a tight budget of 1700.\n",
      "Hi. I'd like to book a trip from Nagoya to Phoenix from August 15th to August 29th.\n",
      "Hi im from termina can we find a vacation that starts on the 13th?\n",
      "my friends and i are going away on our first trip alone ever and i am in charge of finding us a deal!\n",
      "Good morning! So I just won the lottery and decided to offer myself the trip of a lifetime!!! There are so many places I've always wanted to visit but couldn't afford. I live in San Francisco. Anything good to Sacramento? Oh and I want to fly in business class, I want the whole shebang\n",
      "Can you do flights for Kyoto for under 5000? This is for two people\n",
      "Planning a honeymoon, please help! Can you get me on a flight out of Punta Cana to La Paz on August 24\n"
     ]
    }
   ],
   "source": [
    "frames_longer_start_utterances = [utt.replace('\\n', ' ') for utt in frames_start_utterances if 5 < len(utt.split())]\n",
    "print(len(frames_longer_start_utterances))\n",
    "print('\\n'.join(frames_longer_start_utterances[:50]))"
   ]
  },
  {
   "cell_type": "code",
   "execution_count": 53,
   "metadata": {},
   "outputs": [],
   "source": [
    "with open('data/frames_ood.txt', 'w') as frames_out:\n",
    "    for utterance in frames_longer_start_utterances:\n",
    "        print(utterance, file=frames_out)"
   ]
  }
 ],
 "metadata": {
  "kernelspec": {
   "display_name": "Python 3",
   "language": "python",
   "name": "python3"
  },
  "language_info": {
   "codemirror_mode": {
    "name": "ipython",
    "version": 3
   },
   "file_extension": ".py",
   "mimetype": "text/x-python",
   "name": "python",
   "nbconvert_exporter": "python",
   "pygments_lexer": "ipython3",
   "version": "3.5.2"
  }
 },
 "nbformat": 4,
 "nbformat_minor": 2
}
