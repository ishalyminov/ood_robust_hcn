{
 "cells": [
  {
   "cell_type": "code",
   "execution_count": 1,
   "metadata": {},
   "outputs": [
    {
     "name": "stderr",
     "output_type": "stream",
     "text": [
      "[nltk_data] Downloading package vader_lexicon to\n",
      "[nltk_data]     /home/ishalyminov/nltk_data...\n",
      "[nltk_data]   Package vader_lexicon is already up-to-date!\n"
     ]
    }
   ],
   "source": [
    "from __future__ import print_function\n",
    "import os\n",
    "import json\n",
    "import requests\n",
    "import bz2\n",
    "from io import BytesIO\n",
    "\n",
    "from utils.ticktock import download_data\n",
    "from utils.nlp_utils import is_positive, is_negative"
   ]
  },
  {
   "cell_type": "code",
   "execution_count": 6,
   "metadata": {},
   "outputs": [],
   "source": [
    "# used originally\n",
    "dataset_url = 'https://files.pushshift.io/reddit/comments/RC_2015-05.bz2'\n",
    "# smaller one\n",
    "# dataset_url = 'https://files.pushshift.io/reddit/comments/RC_2008-03.bz2'\n",
    "response = requests.get(dataset_url)"
   ]
  },
  {
   "cell_type": "code",
   "execution_count": 7,
   "metadata": {},
   "outputs": [],
   "source": [
    "with open('data/reddit.txt', 'wb') as new_file, bz2.BZ2File(BytesIO(response.content), 'rb') as file:\n",
    "        for data in iter(lambda: file.read(100 * 1024), b''):\n",
    "            new_file.write(data)"
   ]
  }
 ],
 "metadata": {
  "kernelspec": {
   "display_name": "Python 3",
   "language": "python",
   "name": "python3"
  },
  "language_info": {
   "codemirror_mode": {
    "name": "ipython",
    "version": 3
   },
   "file_extension": ".py",
   "mimetype": "text/x-python",
   "name": "python",
   "nbconvert_exporter": "python",
   "pygments_lexer": "ipython3",
   "version": "3.7.4"
  }
 },
 "nbformat": 4,
 "nbformat_minor": 1
}
