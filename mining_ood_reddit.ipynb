{
 "cells": [
  {
   "cell_type": "code",
   "execution_count": null,
   "metadata": {},
   "outputs": [],
   "source": [
    "from __future__ import print_function\n",
    "import os\n",
    "import json\n",
    "import requests\n",
    "import bz2\n",
    "from io import BytesIO\n",
    "\n",
    "from utils.ticktock import download_data\n",
    "from utils.nlp_utils import is_positive, is_negative"
   ]
  },
  {
   "cell_type": "code",
   "execution_count": null,
   "metadata": {},
   "outputs": [],
   "source": [
    "dataset_url = 'https://files.pushshift.io/reddit/comments/RC_2015-05.bz2'\n",
    "response = requests.get(dataset_url)"
   ]
  },
  {
   "cell_type": "code",
   "execution_count": null,
   "metadata": {},
   "outputs": [],
   "source": [
    "with open('data/RC_2015-05.txt', 'wb') as new_file, bz2.BZ2File(BytesIO(response.content), 'rb') as file:\n",
    "        for data in iter(lambda: file.read(100 * 1024), b''):\n",
    "            new_file.write(data)"
   ]
  }
 ],
 "metadata": {
  "kernelspec": {
   "display_name": "Python 3",
   "language": "python",
   "name": "python3"
  },
  "language_info": {
   "codemirror_mode": {
    "name": "ipython",
    "version": 3
   },
   "file_extension": ".py",
   "mimetype": "text/x-python",
   "name": "python",
   "nbconvert_exporter": "python",
   "pygments_lexer": "ipython3",
   "version": "3.7.4"
  }
 },
 "nbformat": 4,
 "nbformat_minor": 1
}
