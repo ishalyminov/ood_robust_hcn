{
 "cells": [
  {
   "cell_type": "code",
   "execution_count": 1,
   "metadata": {},
   "outputs": [
    {
     "name": "stderr",
     "output_type": "stream",
     "text": [
      "/home/t-igshal/.virtualenvs/ood_robust/lib/python3.5/site-packages/nltk/twitter/__init__.py:20: UserWarning: The twython library has not been installed. Some functionality from the twitter package will not be available.\n",
      "  warnings.warn(\"The twython library has not been installed. \"\n"
     ]
    },
    {
     "name": "stdout",
     "output_type": "stream",
     "text": [
      "[nltk_data] Downloading package vader_lexicon to\n",
      "[nltk_data]     /home/t-igshal/nltk_data...\n",
      "[nltk_data]   Package vader_lexicon is already up-to-date!\n"
     ]
    }
   ],
   "source": [
    "from __future__ import print_function\n",
    "import os\n",
    "from operator import itemgetter\n",
    "\n",
    "from utils.twitter import download_data\n",
    "from utils.nlp_utils import is_positive, is_negative, profanity_check, contains_nes, contains_blacklisted_pos_tags"
   ]
  },
  {
   "cell_type": "code",
   "execution_count": 2,
   "metadata": {},
   "outputs": [],
   "source": [
    "DATA_FOLDER = 'data'\n",
    "TWITTER_DATASET_FILENAME = 'twitter_en_big.txt'\n",
    "if not os.path.exists(DATA_FOLDER):\n",
    "    os.makedirs(DATA_FOLDER)"
   ]
  },
  {
   "cell_type": "code",
   "execution_count": 3,
   "metadata": {},
   "outputs": [],
   "source": [
    "FULL_FILENAME = os.path.join(DATA_FOLDER, TWITTER_DATASET_FILENAME)\n",
    "\n",
    "if not os.path.exists(FULL_FILENAME):\n",
    "    download_data(FULL_FILENAME)"
   ]
  },
  {
   "cell_type": "code",
   "execution_count": 4,
   "metadata": {},
   "outputs": [],
   "source": [
    "with open(os.path.join(DATA_FOLDER, TWITTER_DATASET_FILENAME), 'r', encoding='utf-8') as twitter_in:\n",
    "    lines = list(set(map(lambda x: x.lower().strip(), twitter_in.readlines())))"
   ]
  },
  {
   "cell_type": "code",
   "execution_count": 5,
   "metadata": {},
   "outputs": [
    {
     "name": "stdout",
     "output_type": "stream",
     "text": [
      "# unique utterances: 4691739\n"
     ]
    }
   ],
   "source": [
    "print('# unique utterances: {}'.format(len(lines)))"
   ]
  },
  {
   "cell_type": "code",
   "execution_count": 6,
   "metadata": {},
   "outputs": [],
   "source": [
    "def utterance_is_ok(in_utterance):\n",
    "    return (not contains_blacklisted_pos_tags(in_utterance)) \\\n",
    "           and profanity_check(in_utterance) \\\n",
    "           and (not contains_nes(in_utterance))"
   ]
  },
  {
   "cell_type": "code",
   "execution_count": 7,
   "metadata": {},
   "outputs": [],
   "source": [
    "positive_utterances = [utterance for utterance in lines\n",
    "                       if is_positive(utterance, positive_threshold=0.9, negative_threshold=0.1)]"
   ]
  },
  {
   "cell_type": "code",
   "execution_count": 8,
   "metadata": {},
   "outputs": [],
   "source": [
    "positive_utterances = list(filter(lambda x: utterance_is_ok(x), positive_utterances))"
   ]
  },
  {
   "cell_type": "code",
   "execution_count": 15,
   "metadata": {
    "scrolled": false
   },
   "outputs": [
    {
     "name": "stdout",
     "output_type": "stream",
     "text": [
      "# positive utterances after filtering: 3201\n",
      "lol amazing\n",
      "clearly lmfao\n",
      "smart? yeah.\n",
      "i appreciate!!\n",
      "beautifully legal 👌\n",
      "lol. thanks.\n",
      "yes it's pretty good!!\n",
      "free entertainment\n",
      "still super happy n proud!!\n",
      "yay, good job bff\n",
      "cool, thanks!\n",
      "proudly sharing\n",
      "good save lol\n",
      "ha! good luck! 😙\n",
      "neat! thanks for sharing!\n",
      "soooo awesome!! congratulations!! 😃\n",
      "yes, awesome.\n",
      "better? :-)\n",
      "kindly please play\n",
      "congratulations! 🌟\n",
      "well thanks! :d\n",
      "yes, they fit perfectly!!\n",
      "lol, well played!\n",
      "gorgeous stunning beauty\n",
      "outstanding !\n",
      "beautiful dear friend, hugs &amp; blessings\n",
      "stunning. truly.\n",
      "freelancing?\n",
      "well? lol 📲\n",
      "- congrats!\n",
      "that's a great compliment. thanks!\n",
      "perfect solution.\n",
      "haha thanks?\n",
      "hilarious, !\n",
      "kindly play\n",
      "true. how lovely dear friend\n",
      "wow whimsical\n",
      "wow!! love it!!\n",
      "haha! cute.\n",
      "yes agreed.\n",
      "congrats friend!\n",
      "thanks joy!\n",
      "lol - i win.\n",
      "thanks love 💜\n",
      "lol, agreed!\n",
      "great honor.\n",
      "sweet dreams. beautiful photo\n",
      "nice! thanks!\n",
      "haha your amazing!! thanks haha\n",
      "lol yeah ok\n",
      "super cute!!! have fun!!!\n",
      "i love love love him\n",
      "peace, love, joy and blessings.\n",
      "thanks! i needed a good laugh!\n",
      "yes please!!!\n",
      "nice congrats. and adorably cute\n",
      "ily ily ily\n",
      "thx love (':\n",
      "pretty amazing.\n",
      "yeah ! awesome\n",
      "good food lovingly, creatively prepared inspire thoughtful positive conversation.\n",
      "congratulations, !\n",
      "👀 playing nice?\n",
      "i agree love always win!\n",
      "welcome dear friend.\n",
      "super thanks!!!\n",
      "haha true true.\n",
      "inspiration!\n",
      "fantastic! congratulations!!\n",
      "fascinating !\n",
      "wow, congrats!\n",
      "yes pleases!!\n",
      "thanks lol!\n",
      "yes! definitely!\n",
      "congratulations 💛\n",
      "yeah. ok. thanks.\n",
      "sure, jk :)\n",
      "haha thanks!!!\n",
      "a strong challenge\n",
      "🤔 interesting\n",
      "thanks haha!\n",
      "wow!! amazing!\n",
      "sincere congratulations.\n",
      "thank heavens!!\n",
      "thanks!! hugs!\n",
      "wow, congrats!!!\n",
      "thanks defense!\n",
      "splendid beauty\n",
      "absolutely gorgeous :) enjoy.\n",
      "love love love!!!\n",
      "yes definitely!\n",
      "relax sweetly\n",
      "hahaha true!\n",
      "wow! beautiful!!\n",
      "congratulations !\n",
      "amazing!! wow!\n",
      "love love and love!!!\n",
      "congratulations! 💙\n",
      "you clearly won. congratulations\n",
      "amazing haha 😂\n"
     ]
    }
   ],
   "source": [
    "print('# positive utterances after filtering: {}'.format(len(positive_utterances)))\n",
    "print('\\n'.join(positive_utterances[:100]))"
   ]
  },
  {
   "cell_type": "code",
   "execution_count": 10,
   "metadata": {},
   "outputs": [],
   "source": [
    "with open(os.path.join(DATA_FOLDER, 'twitter_ood_positive.txt'), 'w') as positive_out:\n",
    "    for utterance in positive_utterances:\n",
    "        print(utterance, file=positive_out)"
   ]
  },
  {
   "cell_type": "code",
   "execution_count": 11,
   "metadata": {},
   "outputs": [],
   "source": [
    "negative_utterances = [utterance for utterance in lines\n",
    "                       if is_negative(utterance, positive_threshold=0.3, negative_threshold=0.8)]"
   ]
  },
  {
   "cell_type": "code",
   "execution_count": 12,
   "metadata": {},
   "outputs": [],
   "source": [
    "negative_utterances = list(filter(lambda x: utterance_is_ok(x), negative_utterances))"
   ]
  },
  {
   "cell_type": "code",
   "execution_count": 16,
   "metadata": {},
   "outputs": [
    {
     "name": "stdout",
     "output_type": "stream",
     "text": [
      "# negative utterances after filtering: 1896\n",
      "staaaappp hating smh\n",
      "no unfortunately not\n",
      "stop stealing\n",
      "sad! no leadership!\n",
      "rejection??\n",
      "really frustrating :(\n",
      "totally horrifying!\n",
      "hopelessly naive.\n",
      "thats harsh :/\n",
      "frustrating sir frustrating\n",
      "worst people\n",
      "... hate? seriously, hate? what?\n",
      "seriously 🙈\n",
      "? seriously?\n",
      "no arguing that\n",
      "panic attacks are never good 💜\n",
      "ugh, the worst.\n",
      "-god! how vile! disgusting!\n",
      "smh that's disappointing\n",
      "dire straits-why worry\n",
      "worst batman\n",
      "sorry sorry\n",
      "seriously doubt that\n",
      "ironic, no?\n",
      "a boring, boring, boring choice.\n",
      "no you're wrong\n",
      "wrong. bigly. sad!\n",
      "be no problem\n",
      "no, you're crying\n",
      "seriously terrifying\n",
      "omg no worries\n",
      "irony overload\n",
      "or terrible irony?\n",
      "freaking insane\n",
      "unhealthy *\n",
      "hated gays...\n",
      "im choking stop\n",
      "smh smh smh smh\n",
      "i screamed. screamed.\n",
      ". ignorant fool.\n",
      "ugh, i hate that!!!\n",
      "pressure!! 😳\n",
      "creepy freaky weirdo!\n",
      "smh poor wayne\n",
      "i am crying, seriously\n",
      "is an evil scumbag.\n",
      "unfortunately 😐\n",
      "they violated smh\n",
      "no freaking fg!!!!\n",
      "unfortunately no\n",
      "stolen valor smh\n",
      "no doubt. he's a menace.\n",
      "ignore the ignorant\n",
      "doubtful. too bad.\n",
      "stop embarrassing yourself!\n",
      "i seriously hate y'all\n",
      "childish ! immature ! petty !\n",
      "devastating opener, stunned :(\n",
      "shots fired!!!\n",
      "no seriously!!!\n",
      "no doubt bro\n",
      "sooo bored ugh\n",
      "heartless bastards.\n",
      "scandalous.\n",
      "absolutely. no doubt.\n",
      "haters gon hate smh\n",
      "i was brutal\n",
      "perversion.\n",
      "terrible. just terrible.\n",
      "no lagena? smh.\n",
      "this sucks :/\n",
      "seriously! ridiculous!\n",
      "dangerous maniac.\n",
      "ugh, what a mess.\n",
      "wrong wrong\n",
      "not nice lol\n",
      "crisis avoided\n",
      "separation anxiety :/\n",
      "ugh!!! i'm so sorry :(\n",
      "i hate eating alone\n",
      "wth?? already??\n",
      "disgusting and shameful!!\n",
      "brutal beatdown\n",
      "overt racism.\n",
      "the. worst!\n",
      "terrorists.\n",
      "what a disappointment :(\n",
      "unfortunately idk\n",
      "bad meaning terrible\n",
      "nope. super easy.\n",
      "heartbroken. how?\n",
      "block or no\n",
      "really sucks :/\n",
      "no car unfortunately\n",
      "cut my dreads\n",
      "anxiety be damned\n",
      "stop being fake\n",
      "it's blocked :(\n",
      "i miss and ):\n",
      "i hate bad liars\n"
     ]
    }
   ],
   "source": [
    "print('# negative utterances after filtering: {}'.format(len(negative_utterances)))\n",
    "print('\\n'.join(negative_utterances[:100]))"
   ]
  },
  {
   "cell_type": "code",
   "execution_count": 14,
   "metadata": {},
   "outputs": [],
   "source": [
    "with open(os.path.join(DATA_FOLDER, 'twitter_ood_negative.txt'), 'w') as negative_out:\n",
    "    for utterance in negative_utterances:\n",
    "        print(utterance, file=negative_out)"
   ]
  }
 ],
 "metadata": {
  "kernelspec": {
   "display_name": "Python 3",
   "language": "python",
   "name": "python3"
  },
  "language_info": {
   "codemirror_mode": {
    "name": "ipython",
    "version": 3
   },
   "file_extension": ".py",
   "mimetype": "text/x-python",
   "name": "python",
   "nbconvert_exporter": "python",
   "pygments_lexer": "ipython3",
   "version": "3.5.2"
  }
 },
 "nbformat": 4,
 "nbformat_minor": 1
}
